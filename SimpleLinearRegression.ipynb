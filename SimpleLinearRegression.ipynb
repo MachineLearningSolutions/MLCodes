{
  "nbformat": 4,
  "nbformat_minor": 0,
  "metadata": {
    "colab": {
      "name": "Untitled1.ipynb",
      "version": "0.3.2",
      "provenance": [],
      "collapsed_sections": [],
      "include_colab_link": true
    },
    "kernelspec": {
      "name": "python3",
      "display_name": "Python 3"
    }
  },
  "cells": [
    {
      "cell_type": "markdown",
      "metadata": {
        "id": "view-in-github",
        "colab_type": "text"
      },
      "source": [
        "<a href=\"https://colab.research.google.com/github/MachineLearningSolutions/MLCodes/blob/master/SimpleLinearRegression.ipynb\" target=\"_parent\"><img src=\"https://colab.research.google.com/assets/colab-badge.svg\" alt=\"Open In Colab\"/></a>"
      ]
    },
    {
      "cell_type": "code",
      "metadata": {
        "id": "qnV745BJb-JM",
        "colab_type": "code",
        "colab": {
          "base_uri": "https://localhost:8080/",
          "height": 52
        },
        "outputId": "e2668574-6854-4ef3-d634-8f08294a600f"
      },
      "source": [
        "import numpy as np\n",
        "from sklearn.linear_model import LinearRegression\n",
        "\n",
        "#Create a dataset\n",
        "x = np.array([1, 2, 3, 4, 5, 6])  #independent variable\n",
        "y = np.array([8, 17, 12, 40, 32,50])  #dependent variable\n",
        "\n",
        "#Create a linear regression model\n",
        "model = LinearRegression(fit_intercept=True, normalize=False)\n",
        "\n",
        "#Fit the model and calculate coefficients\n",
        "model.fit(x.reshape((-1, 1)),y)\n",
        "\n",
        "#Print coefficients\n",
        "print('bias:', model.intercept_)\n",
        "print('coefficients:', model.coef_)"
      ],
      "execution_count": 67,
      "outputs": [
        {
          "output_type": "stream",
          "text": [
            "bias: -1.7999999999999972\n",
            "coefficients: [8.08571429]\n"
          ],
          "name": "stdout"
        }
      ]
    },
    {
      "cell_type": "code",
      "metadata": {
        "id": "AHmukB6jdX1L",
        "colab_type": "code",
        "colab": {
          "base_uri": "https://localhost:8080/",
          "height": 52
        },
        "outputId": "9f7c028c-72a2-40be-ab47-aae09d6cd4bc"
      },
      "source": [
        "#Manually calculating coefficients from closed form solution:\n",
        "x_original=np.copy(x)\n",
        "y_original=np.copy(y)\n",
        "x=(x.reshape((-1, 1))) #Reshape to make x 2D\n",
        "x=np.insert(x, 0, 1,1) #Insert dummy variable 1 to handle bias\n",
        "y=(y.reshape((-1, 1))) #Reshape to make y 2D\n",
        "\n",
        "#Manual calculation of coefficients\n",
        "coeffs=np.matmul(np.matmul(np.linalg.inv(np.matmul(np.transpose(x),x)),np.transpose(x)),y)  #  inv(X'X)X'y\n",
        "print(coeffs)"
      ],
      "execution_count": 68,
      "outputs": [
        {
          "output_type": "stream",
          "text": [
            "[[-1.8       ]\n",
            " [ 8.08571429]]\n"
          ],
          "name": "stdout"
        }
      ]
    },
    {
      "cell_type": "code",
      "metadata": {
        "id": "xiza_8Uclfti",
        "colab_type": "code",
        "colab": {
          "base_uri": "https://localhost:8080/",
          "height": 300
        },
        "outputId": "ba07dfff-30a6-450e-d8d9-4709ee6d7f69"
      },
      "source": [
        "import matplotlib.pyplot as plt\n",
        "\n",
        "#Visualize the fit\n",
        "y_pred=np.matmul(x,coeffs)\n",
        "\n",
        "#Plot original data\n",
        "plt.scatter(x_original, y_original,c='b',label='original')  \n",
        "\n",
        "#Plot the fit\n",
        "plt.scatter(x_original, y_pred,c='g',label='fit') \n",
        "\n",
        "#Add grid\n",
        "plt.grid(True)\n",
        "plt.xlabel('independent variable')\n",
        "plt.legend()\n"
      ],
      "execution_count": 72,
      "outputs": [
        {
          "output_type": "execute_result",
          "data": {
            "text/plain": [
              "<matplotlib.legend.Legend at 0x7fb72764c400>"
            ]
          },
          "metadata": {
            "tags": []
          },
          "execution_count": 72
        },
        {
          "output_type": "display_data",
          "data": {
            "image/png": "[encoded data removed]",
            "text/plain": [
              "<Figure size 432x288 with 1 Axes>"
            ]
          },
          "metadata": {
            "tags": []
          }
        }
      ]
    }
  ]
}