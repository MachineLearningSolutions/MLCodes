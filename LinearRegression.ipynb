{
  "nbformat": 4,
  "nbformat_minor": 0,
  "metadata": {
    "colab": {
      "name": "Untitled1.ipynb",
      "version": "0.3.2",
      "provenance": [],
      "collapsed_sections": [],
      "include_colab_link": true
    },
    "kernelspec": {
      "name": "python3",
      "display_name": "Python 3"
    }
  },
  "cells": [
    {
      "cell_type": "markdown",
      "metadata": {
        "id": "view-in-github",
        "colab_type": "text"
      },
      "source": [
        "<a href=\"https://colab.research.google.com/github/MachineLearningSolutions/MLCodes/blob/master/LinearRegression.ipynb\" target=\"_parent\"><img src=\"https://colab.research.google.com/assets/colab-badge.svg\" alt=\"Open In Colab\"/></a>"
      ]
    },
    {
      "cell_type": "code",
      "metadata": {
        "id": "qnV745BJb-JM",
        "colab_type": "code",
        "outputId": "fedd3e42-6785-4466-b36e-aafb231c7caf",
        "colab": {
          "base_uri": "https://localhost:8080/",
          "height": 52
        }
      },
      "source": [
        "import numpy as np\n",
        "from sklearn.linear_model import LinearRegression\n",
        "\n",
        "simple_regression=False\n",
        "\n",
        "#Create a dataset\n",
        "if simple_regression:\n",
        "  x = np.array([1, 2, 3, 4, 5, 6])  #independent variable  - simple linear regression\n",
        "else:\n",
        "  x = np.array ([[1,2,3,4,5,6],[2,5,7,11,13,19]]) #independent variable  - multiple linear regression\n",
        "  \n",
        "y = np.array([8, 17, 12, 40, 32,50])  #dependent variable\n",
        "\n",
        "\n",
        "#Create a linear regression model\n",
        "model = LinearRegression(fit_intercept=True, normalize=False)\n",
        "\n",
        "#Fit the model and calculate coefficients\n",
        "if simple_regression:\n",
        "  x_2d=x.reshape((-1, 1))   #For simple linear regression\n",
        "else:\n",
        "  x_2d=np.transpose(x)    #For multiple linear regression\n",
        "  \n",
        "model.fit(x_2d,y)\n",
        "\n",
        "\n",
        "#Print coefficients\n",
        "print('bias:', model.intercept_)\n",
        "print('coefficients:', model.coef_)"
      ],
      "execution_count": 24,
      "outputs": [
        {
          "output_type": "stream",
          "text": [
            "bias: 6.573033707865175\n",
            "coefficients: [-6.93258427  4.65168539]\n"
          ],
          "name": "stdout"
        }
      ]
    },
    {
      "cell_type": "code",
      "metadata": {
        "id": "AHmukB6jdX1L",
        "colab_type": "code",
        "outputId": "a59a5665-e6da-4328-8dbf-fbf3e395b659",
        "colab": {
          "base_uri": "https://localhost:8080/",
          "height": 69
        }
      },
      "source": [
        "#Manually calculating coefficients from closed form solution:\n",
        "x_original=np.copy(x)\n",
        "y_original=np.copy(y)\n",
        "\n",
        "if simple_regression:\n",
        "  x=(x.reshape((-1, 1))) #Reshape to make x 2D  - For simple linear regression\n",
        "else:\n",
        "  x=np.transpose(x)   #For multiple linear regression\n",
        "  \n",
        "x=np.insert(x, 0, 1,1) #Insert dummy variable 1 to handle bias\n",
        "y=(y.reshape((-1, 1))) #Reshape to make y 2D \n",
        "\n",
        "#Manual calculation of coefficients\n",
        "coeffs=np.matmul(np.matmul(np.linalg.inv(np.matmul(np.transpose(x),x)),np.transpose(x)),y)  #  inv(X'X)X'y\n",
        "print(coeffs)"
      ],
      "execution_count": 25,
      "outputs": [
        {
          "output_type": "stream",
          "text": [
            "[[ 6.57303371]\n",
            " [-6.93258427]\n",
            " [ 4.65168539]]\n"
          ],
          "name": "stdout"
        }
      ]
    },
    {
      "cell_type": "code",
      "metadata": {
        "id": "xiza_8Uclfti",
        "colab_type": "code",
        "outputId": "15bf3c97-69d1-42b7-df1d-75ed43b7aafa",
        "colab": {
          "base_uri": "https://localhost:8080/",
          "height": 300
        }
      },
      "source": [
        "import matplotlib.pyplot as plt\n",
        "\n",
        "#Visualize the fit\n",
        "y_pred=np.matmul(x,coeffs)\n",
        "\n",
        "if simple_regression:\n",
        "  #Plot original data\n",
        "  plt.scatter(x_original, y_original,c='b',label='original')  \n",
        "  #Plot the fit\n",
        "  plt.scatter(x_original, y_pred,c='g',label='fit') \n",
        "else:\n",
        "  #Plot original data\n",
        "  plt.scatter(x_original[1,:], y_original,c='b',label='original')  \n",
        "  #Plot the fit\n",
        "  plt.scatter(x_original[1,:], y_pred,c='g',label='fit') \n",
        "\n",
        "#Add grid\n",
        "plt.grid(True)\n",
        "plt.xlabel('independent variable')\n",
        "plt.legend()\n"
      ],
      "execution_count": 28,
      "outputs": [
        {
          "output_type": "execute_result",
          "data": {
            "text/plain": [
              "<matplotlib.legend.Legend at 0x7fabd14de780>"
            ]
          },
          "metadata": {
            "tags": []
          },
          "execution_count": 28
        },
        {
          "output_type": "display_data",
          "data": {
            "image/png": "[encoded data removed]",
            "text/plain": [
              "<Figure size 432x288 with 1 Axes>"
            ]
          },
          "metadata": {
            "tags": []
          }
        }
      ]
    },
    {
      "cell_type": "code",
      "metadata": {
        "id": "1c0fp25bSNnB",
        "colab_type": "code",
        "colab": {}
      },
      "source": [
        ""
      ],
      "execution_count": 0,
      "outputs": []
    }
  ]
}