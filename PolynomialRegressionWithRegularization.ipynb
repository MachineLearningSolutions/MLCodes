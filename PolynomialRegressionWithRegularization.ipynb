{
  "nbformat": 4,
  "nbformat_minor": 0,
  "metadata": {
    "colab": {
      "name": "PolynomialRegressionWithRegularization.ipynb",
      "version": "0.3.2",
      "provenance": [],
      "collapsed_sections": [],
      "include_colab_link": true
    },
    "kernelspec": {
      "name": "python3",
      "display_name": "Python 3"
    }
  },
  "cells": [
    {
      "cell_type": "markdown",
      "metadata": {
        "id": "view-in-github",
        "colab_type": "text"
      },
      "source": [
        "<a href=\"https://colab.research.google.com/github/MachineLearningSolutions/MLCodes/blob/master/PolynomialRegressionWithRegularization.ipynb\" target=\"_parent\"><img src=\"https://colab.research.google.com/assets/colab-badge.svg\" alt=\"Open In Colab\"/></a>"
      ]
    },
    {
      "cell_type": "code",
      "metadata": {
        "id": "7IdBJmpE5Qx5",
        "colab_type": "code",
        "outputId": "acf15d26-d683-4f77-e179-99ddf1f1208c",
        "colab": {
          "base_uri": "https://localhost:8080/",
          "height": 84
        }
      },
      "source": [
        "import numpy as np\n",
        "from sklearn.datasets import load_boston, load_diabetes\n",
        "from sklearn.model_selection import cross_val_score\n",
        "from sklearn.linear_model import LinearRegression,Ridge, Lasso, ElasticNet\n",
        "from sklearn.model_selection import GridSearchCV\n",
        "from sklearn.preprocessing import PolynomialFeatures\n",
        "\n",
        "import warnings\n",
        "warnings.filterwarnings(\"ignore\", category=DeprecationWarning) \n",
        "from warnings import filterwarnings\n",
        "filterwarnings('ignore')\n",
        "\n",
        "#load the dataset\n",
        "dataset_ = load_boston()\n",
        "X=dataset_.data\n",
        "Y=dataset_.target.reshape(-1,1)\n",
        "\n",
        "#print shape\n",
        "print('X shape before poly: ',X.shape)\n",
        "print('Y shape: ',Y.shape)\n",
        "\n",
        "#Add polynomial degrees\n",
        "polynomial_features= PolynomialFeatures(degree=2)\n",
        "X = polynomial_features.fit_transform(X)\n",
        "\n",
        "#print shape\n",
        "print('X shape: ',X.shape)\n",
        "print('Y shape: ',Y.shape)\n",
        "\n",
        "#feature normalization\n",
        "feat_norm=False"
      ],
      "execution_count": 10,
      "outputs": [
        {
          "output_type": "stream",
          "text": [
            "X shape before poly:  (506, 13)\n",
            "Y shape:  (506, 1)\n",
            "X shape:  (506, 105)\n",
            "Y shape:  (506, 1)\n"
          ],
          "name": "stdout"
        }
      ]
    },
    {
      "cell_type": "code",
      "metadata": {
        "id": "3VCy4_9J5Wfv",
        "colab_type": "code",
        "outputId": "c1db31b8-0a14-48cc-b509-9dd380bf394d",
        "colab": {
          "base_uri": "https://localhost:8080/",
          "height": 34
        }
      },
      "source": [
        "#Linear Regression\n",
        "\n",
        "linear=LinearRegression(normalize=feat_norm)\n",
        "errors=cross_val_score(linear,X,Y,scoring='neg_mean_squared_error',cv=10)\n",
        "mean_error=np.mean(errors)\n",
        "print(-mean_error)"
      ],
      "execution_count": 11,
      "outputs": [
        {
          "output_type": "stream",
          "text": [
            "110.67608325630052\n"
          ],
          "name": "stdout"
        }
      ]
    },
    {
      "cell_type": "code",
      "metadata": {
        "id": "Mj9EEqMZ5YXb",
        "colab_type": "code",
        "outputId": "4e51b90e-23a3-41f0-ae6a-da694215649e",
        "colab": {
          "base_uri": "https://localhost:8080/",
          "height": 50
        }
      },
      "source": [
        "#Ridge Regression\n",
        "\n",
        "ridge=Ridge(normalize=feat_norm,solver='saga')\n",
        "params={'alpha':[1e-5,1e-4,1e-3,1e-2,0.1, 0.2, 0.3, 0.4, 0.5, 1, 2, 3, 4, 5, 10,20,30,40,50,100, 200, 300, 400,500]}\n",
        "Regressor=GridSearchCV(ridge,params,scoring='neg_mean_squared_error',cv=10)\n",
        "Regressor.fit(X,Y)\n",
        "#Print best parameter and score\n",
        "print('best parameter: ', Regressor.best_params_)\n",
        "print('best score: ', -Regressor.best_score_)"
      ],
      "execution_count": 12,
      "outputs": [
        {
          "output_type": "stream",
          "text": [
            "best parameter:  {'alpha': 1e-05}\n",
            "best score:  35.39359851653362\n"
          ],
          "name": "stdout"
        }
      ]
    },
    {
      "cell_type": "code",
      "metadata": {
        "id": "asm57mvH5aSI",
        "colab_type": "code",
        "outputId": "8a54178c-726f-4659-ad9a-ec4a327c8820",
        "colab": {
          "base_uri": "https://localhost:8080/",
          "height": 50
        }
      },
      "source": [
        "#Lasso Regression\n",
        "\n",
        "lasso=Lasso(normalize=feat_norm)\n",
        "params={'alpha':[1e-5,1e-4,1e-3,1e-2,0.1, 0.2, 0.3, 0.4, 0.5, 1, 2, 3, 4, 5, 10,20,30,40,50,100, 200, 300, 400,500]}\n",
        "Regressor=GridSearchCV(lasso,params,scoring='neg_mean_squared_error',cv=10)\n",
        "Regressor.fit(X,Y)\n",
        "#Print best parameter and score\n",
        "print('best parameter: ', Regressor.best_params_)\n",
        "print('best score: ', -Regressor.best_score_)"
      ],
      "execution_count": 14,
      "outputs": [
        {
          "output_type": "stream",
          "text": [
            "best parameter:  {'alpha': 20}\n",
            "best score:  26.921101028685168\n"
          ],
          "name": "stdout"
        }
      ]
    },
    {
      "cell_type": "code",
      "metadata": {
        "id": "x575k6nm5b-x",
        "colab_type": "code",
        "outputId": "0666065f-3807-4204-aaac-a228ef99455c",
        "colab": {
          "base_uri": "https://localhost:8080/",
          "height": 50
        }
      },
      "source": [
        "#ElasticNet Regression\n",
        "\n",
        "elastic=ElasticNet(normalize=feat_norm)\n",
        "params={'alpha':[1e-5,1e-4,1e-3,1e-2,1e-1,1,2,3,4,5,10,20,30,40,50,100,],'l1_ratio':[1e-6,1e-5,1e-4,1e-3,1e-2,0.1,0.2,0.3,0.4,0.5,0.6,0.7,0.8,0.9]}\n",
        "Regressor=GridSearchCV(elastic,params,scoring='neg_mean_squared_error',cv=10)\n",
        "Regressor.fit(X,Y)\n",
        "#Print best parameter and score\n",
        "print('best parameter: ', Regressor.best_params_)\n",
        "print('best score: ', -Regressor.best_score_)\n"
      ],
      "execution_count": 16,
      "outputs": [
        {
          "output_type": "stream",
          "text": [
            "best parameter:  {'alpha': 20, 'l1_ratio': 0.9}\n",
            "best score:  26.690921328675046\n"
          ],
          "name": "stdout"
        }
      ]
    }
  ]
}