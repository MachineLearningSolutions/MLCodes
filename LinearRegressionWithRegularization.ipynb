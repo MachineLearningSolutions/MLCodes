{
  "nbformat": 4,
  "nbformat_minor": 0,
  "metadata": {
    "colab": {
      "name": "LinearRegressionWithRegularization.ipynb",
      "version": "0.3.2",
      "provenance": [],
      "collapsed_sections": [],
      "include_colab_link": true
    },
    "kernelspec": {
      "name": "python3",
      "display_name": "Python 3"
    }
  },
  "cells": [
    {
      "cell_type": "markdown",
      "metadata": {
        "id": "view-in-github",
        "colab_type": "text"
      },
      "source": [
        "<a href=\"https://colab.research.google.com/github/MachineLearningSolutions/MLCodes/blob/master/LinearRegressionWithRegularization.ipynb\" target=\"_parent\"><img src=\"https://colab.research.google.com/assets/colab-badge.svg\" alt=\"Open In Colab\"/></a>"
      ]
    },
    {
      "cell_type": "code",
      "metadata": {
        "id": "j5UY_8ZS_duz",
        "colab_type": "code",
        "outputId": "cfa19b99-cbb6-4377-e1d9-27492adfb51e",
        "colab": {
          "base_uri": "https://localhost:8080/",
          "height": 50
        }
      },
      "source": [
        "import numpy as np\n",
        "from sklearn.datasets import load_boston, load_diabetes\n",
        "from sklearn.model_selection import cross_val_score\n",
        "from sklearn.linear_model import LinearRegression,Ridge, Lasso, ElasticNet\n",
        "from sklearn.model_selection import GridSearchCV\n",
        "import warnings\n",
        "warnings.filterwarnings(\"ignore\", category=DeprecationWarning) \n",
        "from warnings import filterwarnings\n",
        "filterwarnings('ignore')\n",
        "\n",
        "#load the dataset\n",
        "dataset_ = load_boston()\n",
        "X=dataset_.data\n",
        "Y=dataset_.target.reshape(-1,1)\n",
        "#print shape\n",
        "print('X shape: ',X.shape)\n",
        "print('Y shape: ',Y.shape)\n",
        "\n",
        "#feature normalization\n",
        "feat_norm=True"
      ],
      "execution_count": 127,
      "outputs": [
        {
          "output_type": "stream",
          "text": [
            "X shape:  (506, 13)\n",
            "Y shape:  (506, 1)\n"
          ],
          "name": "stdout"
        }
      ]
    },
    {
      "cell_type": "code",
      "metadata": {
        "id": "vYkcJ6B0CTqQ",
        "colab_type": "code",
        "outputId": "9b53097f-5e74-43b0-86a2-764d7d316454",
        "colab": {
          "base_uri": "https://localhost:8080/",
          "height": 34
        }
      },
      "source": [
        "#Linear Regression\n",
        "\n",
        "linear=LinearRegression(normalize=feat_norm)\n",
        "errors=cross_val_score(linear,X,Y,scoring='neg_mean_squared_error',cv=10)\n",
        "mean_error=np.mean(errors)\n",
        "print(-mean_error)"
      ],
      "execution_count": 128,
      "outputs": [
        {
          "output_type": "stream",
          "text": [
            "34.70525594452485\n"
          ],
          "name": "stdout"
        }
      ]
    },
    {
      "cell_type": "code",
      "metadata": {
        "id": "0uqmeJkjFHh1",
        "colab_type": "code",
        "outputId": "c47cfd02-2a41-423a-9c38-abed46862c36",
        "colab": {
          "base_uri": "https://localhost:8080/",
          "height": 50
        }
      },
      "source": [
        "#Ridge Regression\n",
        "\n",
        "ridge=Ridge(normalize=feat_norm)\n",
        "params={'alpha':[1e-5,1e-4,1e-3,1e-2,0.1, 0.2, 0.3, 0.4, 0.5, 1, 2, 3, 4, 5, 10,20,30,40,50,100, 200, 300, 400,500]}\n",
        "Regressor=GridSearchCV(ridge,params,scoring='neg_mean_squared_error',cv=10)\n",
        "Regressor.fit(X,Y)\n",
        "#Print best parameter and score\n",
        "print('best parameter: ', Regressor.best_params_)\n",
        "print('best score: ', -Regressor.best_score_)"
      ],
      "execution_count": 129,
      "outputs": [
        {
          "output_type": "stream",
          "text": [
            "best parameter:  {'alpha': 0.2}\n",
            "best score:  30.981401337098113\n"
          ],
          "name": "stdout"
        }
      ]
    },
    {
      "cell_type": "code",
      "metadata": {
        "id": "-jGDkKYdHEUt",
        "colab_type": "code",
        "outputId": "a9298980-c85b-4e98-b6be-eb2c128254dd",
        "colab": {
          "base_uri": "https://localhost:8080/",
          "height": 50
        }
      },
      "source": [
        "#Lasso Regression\n",
        "\n",
        "lasso=Lasso(normalize=feat_norm)\n",
        "params={'alpha':[1e-5,1e-4,1e-3,1e-2,0.1, 0.2, 0.3, 0.4, 0.5, 1, 2, 3, 4, 5, 10,20,30,40,50,100, 200, 300, 400,500]}\n",
        "Regressor=GridSearchCV(lasso,params,scoring='neg_mean_squared_error',cv=10)\n",
        "Regressor.fit(X,Y)\n",
        "#Print best parameter and score\n",
        "print('best parameter: ', Regressor.best_params_)\n",
        "print('best score: ', -Regressor.best_score_)"
      ],
      "execution_count": 130,
      "outputs": [
        {
          "output_type": "stream",
          "text": [
            "best parameter:  {'alpha': 0.01}\n",
            "best score:  33.784433465336456\n"
          ],
          "name": "stdout"
        }
      ]
    },
    {
      "cell_type": "code",
      "metadata": {
        "id": "dyC9p2Y7HnPB",
        "colab_type": "code",
        "outputId": "a1a31b0a-fc44-49d4-f3e3-e9f1fd4c4412",
        "colab": {
          "base_uri": "https://localhost:8080/",
          "height": 50
        }
      },
      "source": [
        "#ElasticNet Regression\n",
        "\n",
        "elastic=ElasticNet(normalize=feat_norm)\n",
        "params={'alpha':[1e-5,1e-4,1e-3,1e-2,1e-1,1,2,3,4,5],'l1_ratio':[1e-6,1e-5,1e-4,1e-3,1e-2,0.1,0.2,0.3,0.4,0.5,0.6,0.7,0.8,0.9]}\n",
        "Regressor=GridSearchCV(elastic,params,scoring='neg_mean_squared_error',cv=10)\n",
        "Regressor.fit(X,Y)\n",
        "#Print best parameter and score\n",
        "print('best parameter: ', Regressor.best_params_)\n",
        "print('best score: ', -Regressor.best_score_)\n"
      ],
      "execution_count": 131,
      "outputs": [
        {
          "output_type": "stream",
          "text": [
            "best parameter:  {'alpha': 0.001, 'l1_ratio': 0.5}\n",
            "best score:  31.027809101323673\n"
          ],
          "name": "stdout"
        }
      ]
    }
  ]
}