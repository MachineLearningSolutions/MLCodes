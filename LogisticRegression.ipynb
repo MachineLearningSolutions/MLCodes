{
  "nbformat": 4,
  "nbformat_minor": 0,
  "metadata": {
    "colab": {
      "name": "LogisticRegression.ipynb",
      "version": "0.3.2",
      "provenance": [],
      "collapsed_sections": [],
      "include_colab_link": true
    },
    "kernelspec": {
      "name": "python3",
      "display_name": "Python 3"
    }
  },
  "cells": [
    {
      "cell_type": "markdown",
      "metadata": {
        "id": "view-in-github",
        "colab_type": "text"
      },
      "source": [
        "<a href=\"https://colab.research.google.com/github/MachineLearningSolutions/MLCodes/blob/master/LogisticRegression.ipynb\" target=\"_parent\"><img src=\"https://colab.research.google.com/assets/colab-badge.svg\" alt=\"Open In Colab\"/></a>"
      ]
    },
    {
      "cell_type": "code",
      "metadata": {
        "id": "J3GOw68LR6Hw",
        "colab_type": "code",
        "colab": {
          "base_uri": "https://localhost:8080/",
          "height": 50
        },
        "outputId": "5ad507e7-7274-4275-92eb-8a4fc2024d44"
      },
      "source": [
        "import numpy as np\n",
        "import sklearn\n",
        "from sklearn.datasets import load_iris, load_digits, load_wine\n",
        "from sklearn.model_selection import cross_val_score, GridSearchCV\n",
        "from sklearn.linear_model import LogisticRegression\n",
        "from sklearn.metrics import classification_report\n",
        "import warnings\n",
        "warnings.filterwarnings(\"ignore\", category=DeprecationWarning) \n",
        "from warnings import filterwarnings\n",
        "filterwarnings('ignore')\n",
        "\n",
        "\n",
        "#load the dataset\n",
        "dataset_ = load_wine()\n",
        "X=dataset_.data\n",
        "Y=dataset_.target.reshape(-1,1)\n",
        "#print shape\n",
        "print('X shape: ',X.shape)\n",
        "print('Y shape: ',Y.shape)\n",
        "\n",
        "\n",
        "\n"
      ],
      "execution_count": 55,
      "outputs": [
        {
          "output_type": "stream",
          "text": [
            "X shape:  (178, 13)\n",
            "Y shape:  (178, 1)\n"
          ],
          "name": "stdout"
        }
      ]
    },
    {
      "cell_type": "code",
      "metadata": {
        "id": "crUxqARQbZ8I",
        "colab_type": "code",
        "colab": {
          "base_uri": "https://localhost:8080/",
          "height": 50
        },
        "outputId": "819cb3b4-b2b3-42f0-9242-546de52656d6"
      },
      "source": [
        "params={'solver': ['saga', 'newton-cg', 'lbfgs','liblinear','sag','saga']}\n",
        "\n",
        "logmodel = LogisticRegression()\n",
        "Classifier=GridSearchCV(logmodel,params,scoring='accuracy',cv=10)\n",
        "Classifier.fit(X,Y)\n",
        "\n",
        "print('best parameter: ', Classifier.best_params_)\n",
        "print('best score: ', Classifier.best_score_)\n"
      ],
      "execution_count": 56,
      "outputs": [
        {
          "output_type": "stream",
          "text": [
            "best parameter:  {'solver': 'newton-cg'}\n",
            "best score:  0.9662921348314607\n"
          ],
          "name": "stdout"
        }
      ]
    }
  ]
}