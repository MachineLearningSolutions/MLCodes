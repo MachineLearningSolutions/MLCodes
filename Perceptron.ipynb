{
  "nbformat": 4,
  "nbformat_minor": 0,
  "metadata": {
    "colab": {
      "name": "Perceptron.ipynb",
      "version": "0.3.2",
      "provenance": [],
      "collapsed_sections": [],
      "include_colab_link": true
    },
    "kernelspec": {
      "name": "python3",
      "display_name": "Python 3"
    }
  },
  "cells": [
    {
      "cell_type": "markdown",
      "metadata": {
        "id": "view-in-github",
        "colab_type": "text"
      },
      "source": [
        "<a href=\"https://colab.research.google.com/github/MachineLearningSolutions/MLCodes/blob/master/Perceptron.ipynb\" target=\"_parent\"><img src=\"https://colab.research.google.com/assets/colab-badge.svg\" alt=\"Open In Colab\"/></a>"
      ]
    },
    {
      "cell_type": "code",
      "metadata": {
        "id": "HiaD7yJ-eQTx",
        "colab_type": "code",
        "colab": {
          "base_uri": "https://localhost:8080/",
          "height": 50
        },
        "outputId": "f4571bc0-ff0c-4339-939c-20f24d39cd9f"
      },
      "source": [
        "import numpy as np\n",
        "from sklearn.linear_model import Perceptron,LogisticRegression\n",
        "from sklearn.neural_network import MLPClassifier\n",
        "\n",
        "from sklearn.datasets import load_iris, load_digits, load_wine\n",
        "from sklearn.model_selection import cross_val_score, GridSearchCV\n",
        "from sklearn.metrics import classification_report\n",
        "import warnings\n",
        "warnings.filterwarnings(\"ignore\", category=DeprecationWarning) \n",
        "from warnings import filterwarnings\n",
        "filterwarnings('ignore')\n",
        "\n",
        "#load the dataset\n",
        "dataset_ = load_digits()\n",
        "X=dataset_.data\n",
        "Y=dataset_.target.reshape(-1,1)\n",
        "#print shape\n",
        "print('X shape: ',X.shape)\n",
        "print('Y shape: ',Y.shape)\n"
      ],
      "execution_count": 36,
      "outputs": [
        {
          "output_type": "stream",
          "text": [
            "X shape:  (1797, 64)\n",
            "Y shape:  (1797, 1)\n"
          ],
          "name": "stdout"
        }
      ]
    },
    {
      "cell_type": "code",
      "metadata": {
        "id": "RwMhn50_ew_r",
        "colab_type": "code",
        "colab": {
          "base_uri": "https://localhost:8080/",
          "height": 50
        },
        "outputId": "b82b7ae3-39b5-4685-d378-52aded55eadf"
      },
      "source": [
        "params={'solver': ['saga', 'newton-cg', 'lbfgs','liblinear','sag','saga']}\n",
        "\n",
        "logmodel = LogisticRegression()\n",
        "Classifier=GridSearchCV(logmodel,params,scoring='accuracy',cv=10)\n",
        "Classifier.fit(X,Y)\n",
        "\n",
        "print('best parameter: ', Classifier.best_params_)\n",
        "print('best score: ', Classifier.best_score_)\n"
      ],
      "execution_count": 12,
      "outputs": [
        {
          "output_type": "stream",
          "text": [
            "best parameter:  {'solver': 'saga'}\n",
            "best score:  0.9387868670005565\n"
          ],
          "name": "stdout"
        }
      ]
    },
    {
      "cell_type": "code",
      "metadata": {
        "id": "SDpk7rpEfBH4",
        "colab_type": "code",
        "colab": {
          "base_uri": "https://localhost:8080/",
          "height": 34
        },
        "outputId": "92fd1248-42cc-49dd-96bf-5a5036853751"
      },
      "source": [
        "\n",
        "slp = Perceptron()\n",
        "accuracies=cross_val_score(slp,X,Y,scoring='accuracy',cv=10)\n",
        "mean_accuracy=np.mean(accuracies)\n",
        "print(mean_accuracy)\n",
        "\n",
        "\n"
      ],
      "execution_count": 13,
      "outputs": [
        {
          "output_type": "stream",
          "text": [
            "0.9204855839351325\n"
          ],
          "name": "stdout"
        }
      ]
    },
    {
      "cell_type": "code",
      "metadata": {
        "id": "oD78ZfMJfssf",
        "colab_type": "code",
        "colab": {
          "base_uri": "https://localhost:8080/",
          "height": 50
        },
        "outputId": "43ec30f3-163e-4709-c83e-6a2be407dd6d"
      },
      "source": [
        "params={'batch_size': [32,64,128], 'hidden_layer_sizes': [50,100,150]}\n",
        "\n",
        "mlp=MLPClassifier()\n",
        "Classifier=GridSearchCV(mlp,params,scoring='accuracy',cv=10)\n",
        "Classifier.fit(X,Y)\n",
        "\n",
        "print('best parameter: ', Classifier.best_params_)\n",
        "print('best score: ', Classifier.best_score_)\n",
        "\n"
      ],
      "execution_count": 40,
      "outputs": [
        {
          "output_type": "stream",
          "text": [
            "best parameter:  {'batch_size': 64, 'hidden_layer_sizes': 150}\n",
            "best score:  0.9627156371730662\n"
          ],
          "name": "stdout"
        }
      ]
    }
  ]
}