{
  "nbformat": 4,
  "nbformat_minor": 0,
  "metadata": {
    "colab": {
      "name": "LinearRegressionWithRegularization.ipynb",
      "version": "0.3.2",
      "provenance": [],
      "collapsed_sections": [],
      "include_colab_link": true
    },
    "kernelspec": {
      "name": "python3",
      "display_name": "Python 3"
    }
  },
  "cells": [
    {
      "cell_type": "markdown",
      "metadata": {
        "id": "view-in-github",
        "colab_type": "text"
      },
      "source": [
        "<a href=\"https://colab.research.google.com/github/MachineLearningSolutions/MLCodes/blob/master/LinearRegressionWithRegularization.ipynb\" target=\"_parent\"><img src=\"https://colab.research.google.com/assets/colab-badge.svg\" alt=\"Open In Colab\"/></a>"
      ]
    },
    {
      "cell_type": "code",
      "metadata": {
        "id": "j5UY_8ZS_duz",
        "colab_type": "code",
        "colab": {
          "base_uri": "https://localhost:8080/",
          "height": 50
        },
        "outputId": "a3aa9e67-0cce-4517-8965-a839dd55d110"
      },
      "source": [
        "import numpy as np\n",
        "from sklearn.datasets import load_boston, load_diabetes\n",
        "from sklearn.model_selection import cross_val_score\n",
        "from sklearn.linear_model import LinearRegression,Ridge, Lasso, ElasticNet\n",
        "from sklearn.model_selection import GridSearchCV\n",
        "\n",
        "\n",
        "#load the dataset\n",
        "dataset_ = load_diabetes()\n",
        "X=dataset_.data\n",
        "Y=dataset_.target.reshape(-1,1)\n",
        "#print shape\n",
        "print('X shape: ',X.shape)\n",
        "print('Y shape: ',Y.shape)\n",
        "\n"
      ],
      "execution_count": 81,
      "outputs": [
        {
          "output_type": "stream",
          "text": [
            "X shape:  (442, 10)\n",
            "Y shape:  (442, 1)\n"
          ],
          "name": "stdout"
        }
      ]
    },
    {
      "cell_type": "code",
      "metadata": {
        "id": "vYkcJ6B0CTqQ",
        "colab_type": "code",
        "colab": {
          "base_uri": "https://localhost:8080/",
          "height": 34
        },
        "outputId": "480462a6-3923-44ba-a4fe-dea2c24929bf"
      },
      "source": [
        "#Linear Regression\n",
        "\n",
        "linear=LinearRegression()\n",
        "errors=cross_val_score(linear,X,Y,scoring='neg_mean_squared_error',cv=10)\n",
        "mean_error=np.mean(errors)\n",
        "print(-mean_error)"
      ],
      "execution_count": 82,
      "outputs": [
        {
          "output_type": "stream",
          "text": [
            "3000.3810328390514\n"
          ],
          "name": "stdout"
        }
      ]
    },
    {
      "cell_type": "code",
      "metadata": {
        "id": "0uqmeJkjFHh1",
        "colab_type": "code",
        "colab": {
          "base_uri": "https://localhost:8080/",
          "height": 104
        },
        "outputId": "db3a5efb-f1a5-4582-f697-45d398f49b85"
      },
      "source": [
        "#Ridge Regression\n",
        "\n",
        "ridge=Ridge()\n",
        "params={'alpha':[1e-5,1e-4,1e-3,1e-2,0.1, 0.2, 0.3, 0.4, 0.5, 1, 2, 3, 4, 5, 10,20,30,40,50,100, 200, 300, 400,500]}\n",
        "Regressor=GridSearchCV(ridge,params,scoring='neg_mean_squared_error',cv=10)\n",
        "Regressor.fit(X,Y)\n",
        "#Print best parameter and score\n",
        "print('best parameter: ', Regressor.best_params_)\n",
        "print('best score: ', -Regressor.best_score_)"
      ],
      "execution_count": 83,
      "outputs": [
        {
          "output_type": "stream",
          "text": [
            "best parameter:  {'alpha': 0.01}\n",
            "best score:  2996.125947205788\n"
          ],
          "name": "stdout"
        },
        {
          "output_type": "stream",
          "text": [
            "/usr/local/lib/python3.6/dist-packages/sklearn/model_selection/_search.py:813: DeprecationWarning: The default of the `iid` parameter will change from True to False in version 0.22 and will be removed in 0.24. This will change numeric results when test-set sizes are unequal.\n",
            "  DeprecationWarning)\n"
          ],
          "name": "stderr"
        }
      ]
    },
    {
      "cell_type": "code",
      "metadata": {
        "id": "-jGDkKYdHEUt",
        "colab_type": "code",
        "colab": {
          "base_uri": "https://localhost:8080/",
          "height": 104
        },
        "outputId": "2840a56f-fb4b-4922-b632-ec0a9acb98e1"
      },
      "source": [
        "#Lasso Regression\n",
        "\n",
        "lasso=Lasso()\n",
        "params={'alpha':[1e-5,1e-4,1e-3,1e-2,0.1, 0.2, 0.3, 0.4, 0.5, 1, 2, 3, 4, 5, 10,20,30,40,50,100, 200, 300, 400,500]}\n",
        "Regressor=GridSearchCV(lasso,params,scoring='neg_mean_squared_error',cv=10)\n",
        "Regressor.fit(X,Y)\n",
        "#Print best parameter and score\n",
        "print('best parameter: ', Regressor.best_params_)\n",
        "print('best score: ', -Regressor.best_score_)"
      ],
      "execution_count": 84,
      "outputs": [
        {
          "output_type": "stream",
          "text": [
            "best parameter:  {'alpha': 0.001}\n",
            "best score:  2998.238142617453\n"
          ],
          "name": "stdout"
        },
        {
          "output_type": "stream",
          "text": [
            "/usr/local/lib/python3.6/dist-packages/sklearn/model_selection/_search.py:813: DeprecationWarning: The default of the `iid` parameter will change from True to False in version 0.22 and will be removed in 0.24. This will change numeric results when test-set sizes are unequal.\n",
            "  DeprecationWarning)\n"
          ],
          "name": "stderr"
        }
      ]
    },
    {
      "cell_type": "code",
      "metadata": {
        "id": "dyC9p2Y7HnPB",
        "colab_type": "code",
        "colab": {
          "base_uri": "https://localhost:8080/",
          "height": 171
        },
        "outputId": "88f801ff-abcd-4f22-df36-32b219edc75f"
      },
      "source": [
        "#ElasticNet Refression\n",
        "\n",
        "elastic=ElasticNet()\n",
        "params={'alpha':[1e-5,1e-4,1e-3,1e-2,1e-1,1,2,3,4,5],'l1_ratio':[1e-6,1e-5,1e-4,1e-3,1e-2,0.1,0.2,0.3,0.4,0.5,0.6,0.7,0.8,0.9]}\n",
        "Regressor=GridSearchCV(elastic,params,scoring='neg_mean_squared_error',cv=10)\n",
        "Regressor.fit(X,Y)\n",
        "#Print best parameter and score\n",
        "print('best parameter: ', Regressor.best_params_)\n",
        "print('best score: ', -Regressor.best_score_)\n"
      ],
      "execution_count": 85,
      "outputs": [
        {
          "output_type": "stream",
          "text": [
            "/usr/local/lib/python3.6/dist-packages/sklearn/linear_model/coordinate_descent.py:475: ConvergenceWarning: Objective did not converge. You might want to increase the number of iterations. Duality gap: 2484.3695098799653, tolerance: 243.5780733668342\n",
            "  positive)\n",
            "/usr/local/lib/python3.6/dist-packages/sklearn/linear_model/coordinate_descent.py:475: ConvergenceWarning: Objective did not converge. You might want to increase the number of iterations. Duality gap: 1967.2807914902223, tolerance: 229.8265085427135\n",
            "  positive)\n"
          ],
          "name": "stderr"
        },
        {
          "output_type": "stream",
          "text": [
            "best parameter:  {'alpha': 0.001, 'l1_ratio': 0.9}\n",
            "best score:  2995.6622536234204\n"
          ],
          "name": "stdout"
        },
        {
          "output_type": "stream",
          "text": [
            "/usr/local/lib/python3.6/dist-packages/sklearn/model_selection/_search.py:813: DeprecationWarning: The default of the `iid` parameter will change from True to False in version 0.22 and will be removed in 0.24. This will change numeric results when test-set sizes are unequal.\n",
            "  DeprecationWarning)\n"
          ],
          "name": "stderr"
        }
      ]
    }
  ]
}